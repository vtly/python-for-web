{
 "cells": [
  {
   "cell_type": "code",
   "execution_count": 2,
   "metadata": {},
   "outputs": [],
   "source": [
    "import pandas as pd\n",
    "import requests\n",
    "import datetime\n",
    "import json"
   ]
  },
  {
   "cell_type": "code",
   "execution_count": 172,
   "metadata": {},
   "outputs": [],
   "source": [
    "# С pandas оказывается нельзя :(\n",
    "def calc_age(uid):\n",
    "    r = requests.get(f'https://api.vk.com/method/friends.get?v=5.71&access_token=17da724517da724517da72458517b8abce117da17da72454d235c274f1a2be5f45ee711&user_id={uid}&fields=bdate')\n",
    "    df = pd.DataFrame.from_dict(r.json()['response']['items'])\n",
    "    df.bdate = df.bdate.apply(lambda x: x if len(str(x))>7 else None)\n",
    "    df.bdate = pd.to_datetime(df.bdate)\n",
    "    df['age'] = df.bdate.apply(lambda x: 2019 - x.year)\n",
    "    s = df.groupby('age', sort=True)['age'].count()\n",
    "    s.sort_index(inplace=True, ascending=True)\n",
    "    s.sort_values(inplace=True, ascending=False)\n",
    "    return s"
   ]
  },
  {
   "cell_type": "code",
   "execution_count": 173,
   "metadata": {},
   "outputs": [],
   "source": [
    "df = calc_age('150617534')"
   ]
  },
  {
   "cell_type": "code",
   "execution_count": 174,
   "metadata": {},
   "outputs": [
    {
     "data": {
      "text/plain": [
       "age\n",
       "25.0    18\n",
       "26.0    17\n",
       "27.0    11\n",
       "22.0     9\n",
       "23.0     5\n",
       "29.0     3\n",
       "41.0     2\n",
       "40.0     2\n",
       "20.0     2\n",
       "21.0     2\n",
       "24.0     2\n",
       "74.0     1\n",
       "28.0     1\n",
       "64.0     1\n",
       "30.0     1\n",
       "31.0     1\n",
       "32.0     1\n",
       "33.0     1\n",
       "38.0     1\n",
       "19.0     1\n",
       "Name: age, dtype: int64"
      ]
     },
     "execution_count": 174,
     "metadata": {},
     "output_type": "execute_result"
    }
   ],
   "source": [
    "df"
   ]
  },
  {
   "cell_type": "markdown",
   "metadata": {},
   "source": [
    "---"
   ]
  },
  {
   "cell_type": "code",
   "execution_count": 131,
   "metadata": {},
   "outputs": [],
   "source": [
    "params = {'v':'5.71',\n",
    "          'access_token':'17da724517da724517da72458517b8abce117da17da72454d235c274f1a2be5f45ee711',\n",
    "          'user_ids': 'reigning'}\n",
    "r = requests.get('https://api.vk.com/method/users.get', params=params)"
   ]
  },
  {
   "cell_type": "code",
   "execution_count": 140,
   "metadata": {},
   "outputs": [
    {
     "data": {
      "text/plain": [
       "150617534"
      ]
     },
     "execution_count": 140,
     "metadata": {},
     "output_type": "execute_result"
    }
   ],
   "source": [
    "r.json()['response'][0]['id']"
   ]
  },
  {
   "cell_type": "code",
   "execution_count": 178,
   "metadata": {},
   "outputs": [],
   "source": [
    "def calc_age(uid):\n",
    "    import requests\n",
    "    import time\n",
    "    # если на вход дали имя\n",
    "    if type(uid) == str:\n",
    "        params = {'v':'5.71',\n",
    "          'access_token':'17da724517da724517da72458517b8abce117da17da72454d235c274f1a2be5f45ee711',\n",
    "          'user_ids': uid}\n",
    "        r = requests.get('https://api.vk.com/method/users.get', params=params)\n",
    "        t_id = r.json()['response'][0]['id']\n",
    "        uid = t_id\n",
    "    \n",
    "    # собираем друзяков\n",
    "    params = {'v':'5.71',\n",
    "          'access_token':'17da724517da724517da72458517b8abce117da17da72454d235c274f1a2be5f45ee711',\n",
    "          'user_id': uid,\n",
    "          'fields':'bdate'}\n",
    "    r = requests.get('https://api.vk.com/method/friends.get', params=params)\n",
    "    \n",
    "    # считаем\n",
    "    d = dict()\n",
    "    cur_year = time.localtime().tm_year\n",
    "\n",
    "    for i in r.json()['response']['items']:\n",
    "        if 'bdate' in i.keys():\n",
    "            if len(i['bdate']) > 7:\n",
    "                age = cur_year - int(i['bdate'][::-1][:4][::-1])\n",
    "                if age not in d.keys():\n",
    "                    d.setdefault(age, 1)\n",
    "                else:\n",
    "                    d[age] += 1\n",
    "\n",
    "    t = list(d.items())\n",
    "    t = sorted(t, key=lambda x: x[0])\n",
    "    t = sorted(t, key=lambda x: x[1], reverse=True)\n",
    "    return t"
   ]
  },
  {
   "cell_type": "code",
   "execution_count": 180,
   "metadata": {},
   "outputs": [
    {
     "data": {
      "text/plain": [
       "[(25, 18),\n",
       " (26, 17),\n",
       " (27, 11),\n",
       " (22, 9),\n",
       " (23, 5),\n",
       " (29, 3),\n",
       " (20, 2),\n",
       " (21, 2),\n",
       " (24, 2),\n",
       " (40, 2),\n",
       " (41, 2),\n",
       " (19, 1),\n",
       " (28, 1),\n",
       " (30, 1),\n",
       " (31, 1),\n",
       " (32, 1),\n",
       " (33, 1),\n",
       " (38, 1),\n",
       " (64, 1),\n",
       " (74, 1)]"
      ]
     },
     "execution_count": 180,
     "metadata": {},
     "output_type": "execute_result"
    }
   ],
   "source": [
    "# calc_age('reigning')\n",
    "calc_age('150617534')"
   ]
  },
  {
   "cell_type": "code",
   "execution_count": 154,
   "metadata": {},
   "outputs": [
    {
     "name": "stdout",
     "output_type": "stream",
     "text": [
      "Hello there\n"
     ]
    }
   ],
   "source": [
    "try:\n",
    "    t_id\n",
    "except NameError:\n",
    "    print('Hello there')"
   ]
  },
  {
   "cell_type": "code",
   "execution_count": 128,
   "metadata": {},
   "outputs": [],
   "source": [
    "params = {'v':'5.71',\n",
    "          'access_token':'17da724517da724517da72458517b8abce117da17da72454d235c274f1a2be5f45ee711',\n",
    "          'user_id': '289842394',\n",
    "          'fields':'bdate'}\n",
    "r = requests.get('https://api.vk.com/method/friends.get', params=params)"
   ]
  },
  {
   "cell_type": "code",
   "execution_count": 73,
   "metadata": {},
   "outputs": [
    {
     "data": {
      "text/plain": [
       "'1980'"
      ]
     },
     "execution_count": 73,
     "metadata": {},
     "output_type": "execute_result"
    }
   ],
   "source": [
    "r.json()['response']['items'][1]['bdate'][::-1][:4][::-1]"
   ]
  },
  {
   "cell_type": "code",
   "execution_count": 122,
   "metadata": {},
   "outputs": [],
   "source": [
    "d = dict()\n",
    "cur_year = time.localtime().tm_year\n",
    "\n",
    "for i in r.json()['response']['items']:\n",
    "    if 'bdate' in i.keys():\n",
    "        if len(i['bdate']) > 7:\n",
    "            age = cur_year - int(i['bdate'][::-1][:4][::-1])\n",
    "            if age not in d.keys():\n",
    "                d.setdefault(age, 1)\n",
    "            else:\n",
    "                d[age] += 1\n",
    "                \n",
    "t = list(d.items())\n",
    "t = sorted(t, key=lambda x: x[0])\n",
    "t = sorted(t, key=lambda x: x[1], reverse=True)"
   ]
  },
  {
   "cell_type": "code",
   "execution_count": 123,
   "metadata": {},
   "outputs": [
    {
     "data": {
      "text/plain": [
       "[(29, 34),\n",
       " (19, 30),\n",
       " (26, 28),\n",
       " (23, 25),\n",
       " (22, 24),\n",
       " (21, 23),\n",
       " (28, 23),\n",
       " (24, 20),\n",
       " (32, 20),\n",
       " (33, 20),\n",
       " (25, 19),\n",
       " (35, 17),\n",
       " (39, 16),\n",
       " (20, 15),\n",
       " (27, 15),\n",
       " (30, 14),\n",
       " (38, 14),\n",
       " (31, 13),\n",
       " (36, 13),\n",
       " (34, 12),\n",
       " (37, 12),\n",
       " (40, 10),\n",
       " (17, 9),\n",
       " (16, 8),\n",
       " (18, 8),\n",
       " (42, 7),\n",
       " (41, 6),\n",
       " (45, 6),\n",
       " (117, 6),\n",
       " (44, 5),\n",
       " (47, 5),\n",
       " (46, 4),\n",
       " (48, 4),\n",
       " (43, 3),\n",
       " (52, 3),\n",
       " (15, 2),\n",
       " (49, 2),\n",
       " (50, 2),\n",
       " (54, 2),\n",
       " (55, 2),\n",
       " (58, 2),\n",
       " (14, 1),\n",
       " (51, 1),\n",
       " (53, 1),\n",
       " (56, 1),\n",
       " (59, 1),\n",
       " (60, 1),\n",
       " (61, 1),\n",
       " (68, 1),\n",
       " (72, 1),\n",
       " (73, 1),\n",
       " (78, 1),\n",
       " (84, 1),\n",
       " (90, 1),\n",
       " (101, 1),\n",
       " (102, 1),\n",
       " (115, 1),\n",
       " (116, 1)]"
      ]
     },
     "execution_count": 123,
     "metadata": {},
     "output_type": "execute_result"
    }
   ],
   "source": [
    "t"
   ]
  },
  {
   "cell_type": "code",
   "execution_count": 175,
   "metadata": {},
   "outputs": [],
   "source": [
    "import time"
   ]
  },
  {
   "cell_type": "code",
   "execution_count": 177,
   "metadata": {},
   "outputs": [
    {
     "data": {
      "text/plain": [
       "2019"
      ]
     },
     "execution_count": 177,
     "metadata": {},
     "output_type": "execute_result"
    }
   ],
   "source": [
    "time.localtime().tm_year "
   ]
  },
  {
   "cell_type": "code",
   "execution_count": null,
   "metadata": {},
   "outputs": [],
   "source": [
    "time.localtime()"
   ]
  }
 ],
 "metadata": {
  "kernelspec": {
   "display_name": "Python 3",
   "language": "python",
   "name": "python3"
  },
  "language_info": {
   "codemirror_mode": {
    "name": "ipython",
    "version": 3
   },
   "file_extension": ".py",
   "mimetype": "text/x-python",
   "name": "python",
   "nbconvert_exporter": "python",
   "pygments_lexer": "ipython3",
   "version": "3.7.4"
  }
 },
 "nbformat": 4,
 "nbformat_minor": 2
}
